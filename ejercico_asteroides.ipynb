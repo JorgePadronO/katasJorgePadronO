{
 "cells": [
  {
   "cell_type": "markdown",
   "metadata": {},
   "source": [
    "# Ejercicio 1"
   ]
  },
  {
   "cell_type": "code",
   "execution_count": 8,
   "metadata": {},
   "outputs": [
    {
     "name": "stdout",
     "output_type": "stream",
     "text": [
      "Advertencia, se acerca un asteroide demasiado rápido!\n"
     ]
    }
   ],
   "source": [
    "velocidad = 49\n",
    "if velocidad > 25:\n",
    "    print (\"Advertencia, se acerca un asteroide demasiado rápido!\")\n",
    "else: \n",
    "    print (\"Todo va bien\")\n",
    "   "
   ]
  },
  {
   "cell_type": "code",
   "execution_count": 11,
   "metadata": {},
   "outputs": [
    {
     "name": "stdout",
     "output_type": "stream",
     "text": [
      "No hay asteroides en el cielo\n"
     ]
    }
   ],
   "source": [
    "velocidad = 19\n",
    "if velocidad >= 20:\n",
    "    print (\"Alerta, debes buscar un asteroide em el cielo!\")\n",
    "elif velocidad <= 20: # <----- el mio, solución -----> velocidad==20\n",
    "    print (\"No hay asteroides en el cielo\")\n",
    "else:\n",
    "    print (\"Todo va bien\")\n"
   ]
  },
  {
   "cell_type": "markdown",
   "metadata": {},
   "source": [
    "# Ejercicio 2"
   ]
  },
  {
   "cell_type": "code",
   "execution_count": 20,
   "metadata": {},
   "outputs": [
    {
     "name": "stdout",
     "output_type": "stream",
     "text": [
      "Advertencia, se acerca un asteroide demasiado rápido y debes buscar en el cielo!!\n"
     ]
    }
   ],
   "source": [
    "velocidad = 26\n",
    "tamaño = 24\n",
    "if tamaño > 25 and tamaño < 1000:\n",
    "    print (\"El asteroide hará mucho daño!!\")\n",
    "elif velocidad > 25:\n",
    "    print (\"Advertencia, se acerca un asteroide demasiado rápido y debes buscar en el cielo!!\")\n",
    "elif velocidad >= 20:\n",
    "    print (\"Advertencia, se acerca un asteroide demasiado rápido y debes buscar en el cielo!!\")\n",
    "elif tamaño > 25 and velocidad > 25:\n",
    "    print (\"El asteroide hará mucho daño y debes buscar en el cielo!!\")\n",
    "\n",
    "else:\n",
    "    print (\"Todo va bien\")\n",
    "\n",
    "    # Creo me hice bolas jsjs\n",
    "\n",
    "    \n"
   ]
  }
 ],
 "metadata": {
  "interpreter": {
   "hash": "4ce0e62306dd6a5716965d4519ada776f947e6dfc145b604b11307c10277ef29"
  },
  "kernelspec": {
   "display_name": "Python 3.10.2 64-bit",
   "language": "python",
   "name": "python3"
  },
  "language_info": {
   "codemirror_mode": {
    "name": "ipython",
    "version": 3
   },
   "file_extension": ".py",
   "mimetype": "text/x-python",
   "name": "python",
   "nbconvert_exporter": "python",
   "pygments_lexer": "ipython3",
   "version": "3.10.2"
  },
  "orig_nbformat": 4
 },
 "nbformat": 4,
 "nbformat_minor": 2
}
