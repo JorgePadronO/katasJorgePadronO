{
 "cells": [
  {
   "cell_type": "markdown",
   "metadata": {},
   "source": [
    "# Ejercicio: Uso de funciones en Python\n",
    "Ejercicio 1: Trabajar con argumentos en funciones"
   ]
  },
  {
   "cell_type": "code",
   "execution_count": 2,
   "metadata": {},
   "outputs": [],
   "source": [
    "def generar_reporte(tanque1, tanque2, tanque3):\n",
    "    P_T = (tanque1 + tanque2 + tanque3) / 3\n",
    "    return f\"\"\"Reporte_de_combustible:\n",
    "    Promedio Total: {P_T}%\n",
    "    Tanque 1: {tanque1}%\n",
    "    Tanque 2: {tanque2}%\n",
    "    Tanque 2: {tanque3}% \n",
    "    \"\"\""
   ]
  },
  {
   "cell_type": "code",
   "execution_count": 3,
   "metadata": {},
   "outputs": [
    {
     "name": "stdout",
     "output_type": "stream",
     "text": [
      "Reporte_de_combustible:\n",
      "    Promedio Total: 80.0%\n",
      "    Tanque 1: 90%\n",
      "    Tanque 2: 80%\n",
      "    Tanque 3: 70% \n",
      "    \n"
     ]
    }
   ],
   "source": [
    "print(generar_reporte(90, 80, 70))"
   ]
  },
  {
   "cell_type": "code",
   "execution_count": 6,
   "metadata": {},
   "outputs": [
    {
     "data": {
      "text/plain": [
       "61.333333333333336"
      ]
     },
     "execution_count": 6,
     "metadata": {},
     "output_type": "execute_result"
    }
   ],
   "source": [
    "def Promedio(valores):\n",
    "    Total = sum(valores)\n",
    "    N_E = len(valores)\n",
    "    return Total / N_E\n",
    "\n",
    "\n",
    "Promedio([60, 55, 69]) "
   ]
  },
  {
   "cell_type": "code",
   "execution_count": 7,
   "metadata": {},
   "outputs": [
    {
     "name": "stdout",
     "output_type": "stream",
     "text": [
      "Reporte_de_combustible:\n",
      "    Promedio Total: 84.33333333333333%\n",
      "    Tanque 1 95%\n",
      "    Tanque 2: 86%\n",
      "    Tanque 3: 72% \n",
      "    \n"
     ]
    }
   ],
   "source": [
    "def generar_reporte(tanque1, tanque2, tanque3):\n",
    "    return f\"\"\"Reporte_de_combustible:\n",
    "    Promedio Total: {Promedio([tanque1, tanque2, tanque3])}%\n",
    "    Tanque 1 {tanque1}%\n",
    "    Tanque 2: {tanque2}%\n",
    "    Tanque 3: {tanque3}% \n",
    "    \"\"\"\n",
    "\n",
    "\n",
    "print(generar_reporte(95, 86, 72))"
   ]
  }
 ],
 "metadata": {
  "interpreter": {
   "hash": "4ce0e62306dd6a5716965d4519ada776f947e6dfc145b604b11307c10277ef29"
  },
  "kernelspec": {
   "display_name": "Python 3.10.2 64-bit",
   "language": "python",
   "name": "python3"
  },
  "language_info": {
   "codemirror_mode": {
    "name": "ipython",
    "version": 3
   },
   "file_extension": ".py",
   "mimetype": "text/x-python",
   "name": "python",
   "nbconvert_exporter": "python",
   "pygments_lexer": "ipython3",
   "version": "3.10.2"
  },
  "orig_nbformat": 4
 },
 "nbformat": 4,
 "nbformat_minor": 2
}
